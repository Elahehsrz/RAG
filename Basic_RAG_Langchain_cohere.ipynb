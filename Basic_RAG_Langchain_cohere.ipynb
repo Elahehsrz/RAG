{
 "cells": [
  {
   "cell_type": "markdown",
   "metadata": {},
   "source": [
    "# Installing libraries"
   ]
  },
  {
   "cell_type": "code",
   "execution_count": 49,
   "metadata": {},
   "outputs": [],
   "source": [
    "# pip install lark\n",
    "# pip install chromadb\n",
    "# pip install langchain-cohere\n",
    "# pip install pypdf\n",
    "# pip install langchain\n",
    "# pip install -U langchain-community\n",
    "# pip install scikit-learn\n",
    "# pip install \"langchain[docarray]\""
   ]
  },
  {
   "cell_type": "markdown",
   "metadata": {},
   "source": [
    "## Importing libraries"
   ]
  },
  {
   "cell_type": "code",
   "execution_count": 50,
   "metadata": {},
   "outputs": [],
   "source": [
    "import os\n",
    "import sys\n",
    "from langchain.document_loaders import PyPDFLoader\n",
    "from langchain.text_splitter import RecursiveCharacterTextSplitter, CharacterTextSplitter\n",
    "from langchain_cohere import CohereEmbeddings\n",
    "from langchain.vectorstores import Chroma"
   ]
  },
  {
   "cell_type": "code",
   "execution_count": 51,
   "metadata": {},
   "outputs": [],
   "source": [
    "from langchain.retrievers.self_query.base import SelfQueryRetriever\n",
    "from langchain.chains.query_constructor.base import AttributeInfo\n",
    "from langchain_cohere import ChatCohere\n",
    "from langchain_core.messages import HumanMessage\n",
    "from langchain.retrievers import SVMRetriever\n",
    "from langchain.retrievers import TFIDFRetriever\n",
    "from langchain.chains import RetrievalQA"
   ]
  },
  {
   "cell_type": "code",
   "execution_count": 52,
   "metadata": {},
   "outputs": [],
   "source": [
    "from langchain.prompts import PromptTemplate\n",
    "from langchain.memory import ConversationBufferMemory\n",
    "from langchain.chains import ConversationalRetrievalChain\n",
    "from langchain.vectorstores import DocArrayInMemorySearch\n"
   ]
  },
  {
   "cell_type": "code",
   "execution_count": 53,
   "metadata": {},
   "outputs": [],
   "source": [
    "API_KEY=\"\"\n",
    "persist_directory = 'chroma/'"
   ]
  },
  {
   "cell_type": "markdown",
   "metadata": {},
   "source": [
    "### Loading documents -> PDF"
   ]
  },
  {
   "cell_type": "code",
   "execution_count": 54,
   "metadata": {},
   "outputs": [],
   "source": [
    "\n",
    "loader = PyPDFLoader(\"PromptNER : Prompting For Named Entity Recognition.pdf\")\n",
    "pages = loader.load()"
   ]
  },
  {
   "cell_type": "code",
   "execution_count": 55,
   "metadata": {},
   "outputs": [
    {
     "data": {
      "text/plain": [
       "20"
      ]
     },
     "execution_count": 55,
     "metadata": {},
     "output_type": "execute_result"
    }
   ],
   "source": [
    "len(pages)"
   ]
  },
  {
   "cell_type": "code",
   "execution_count": 56,
   "metadata": {},
   "outputs": [],
   "source": [
    "page = pages[0]"
   ]
  },
  {
   "cell_type": "code",
   "execution_count": 57,
   "metadata": {},
   "outputs": [
    {
     "data": {
      "text/plain": [
       "langchain_core.documents.base.Document"
      ]
     },
     "execution_count": 57,
     "metadata": {},
     "output_type": "execute_result"
    }
   ],
   "source": [
    "type(page)"
   ]
  },
  {
   "cell_type": "code",
   "execution_count": 58,
   "metadata": {},
   "outputs": [
    {
     "data": {
      "text/plain": [
       "{'source': 'PromptNER : Prompting For Named Entity Recognition.pdf', 'page': 0}"
      ]
     },
     "execution_count": 58,
     "metadata": {},
     "output_type": "execute_result"
    }
   ],
   "source": [
    "page.metadata"
   ]
  },
  {
   "cell_type": "markdown",
   "metadata": {},
   "source": [
    "### Document Splitting"
   ]
  },
  {
   "cell_type": "code",
   "execution_count": 59,
   "metadata": {},
   "outputs": [],
   "source": [
    "chunk_size =26\n",
    "chunk_overlap = 4"
   ]
  },
  {
   "cell_type": "code",
   "execution_count": 60,
   "metadata": {},
   "outputs": [],
   "source": [
    "r_splitter = RecursiveCharacterTextSplitter(\n",
    "    chunk_size=chunk_size,\n",
    "    chunk_overlap=chunk_overlap\n",
    ")\n",
    "c_splitter = CharacterTextSplitter(\n",
    "    chunk_size=chunk_size,\n",
    "    chunk_overlap=chunk_overlap\n",
    ")"
   ]
  },
  {
   "cell_type": "code",
   "execution_count": 61,
   "metadata": {},
   "outputs": [],
   "source": [
    "text_splitter = CharacterTextSplitter(\n",
    "    separator=\"\\n\",\n",
    "    chunk_size=1000,\n",
    "    chunk_overlap=150,\n",
    "    length_function=len\n",
    ")"
   ]
  },
  {
   "cell_type": "code",
   "execution_count": 62,
   "metadata": {},
   "outputs": [],
   "source": [
    "docs = text_splitter.split_documents(pages)"
   ]
  },
  {
   "cell_type": "markdown",
   "metadata": {},
   "source": [
    "### Embeddings"
   ]
  },
  {
   "cell_type": "code",
   "execution_count": 63,
   "metadata": {},
   "outputs": [],
   "source": [
    "sentence1 = \"i like cats\""
   ]
  },
  {
   "cell_type": "code",
   "execution_count": 64,
   "metadata": {},
   "outputs": [],
   "source": [
    "embeddings_model = CohereEmbeddings(cohere_api_key=API_KEY, model=\"embed-english-light-v3.0\")"
   ]
  },
  {
   "cell_type": "code",
   "execution_count": 65,
   "metadata": {},
   "outputs": [
    {
     "name": "stdout",
     "output_type": "stream",
     "text": [
      "[0.045532227, -0.09069824, 0.03414917, 0.04711914, 0.00022697449, -0.016235352, 0.055419922, -0.003786087, -0.035980225, -0.006427765, -0.03363037, -0.071899414, -0.0016222, 0.090148926, 0.02168274, 0.052246094, 0.029556274, -0.124816895, -0.06903076, -0.025985718, -0.15734863, 0.00447464, 0.028442383, -0.014556885, -0.060577393, -0.007949829, -0.09069824, -0.013214111, -0.06762695, 0.118896484, -0.09942627, -0.059448242, 0.03643799, 0.009109497, 0.02128601, 0.0028762817, 0.0023822784, -0.004989624, 0.07421875, -0.041778564, -0.041168213, -0.048675537, -0.020690918, -0.03567505, -0.04574585, 0.003660202, 0.03656006, -0.079711914, 0.099853516, 0.01828003, -0.017623901, 0.018814087, 0.0007200241, -0.01108551, -0.017669678, 0.07543945, 0.019836426, 0.10284424, -0.037139893, -0.057159424, -0.051513672, -0.011436462, -0.052246094, 0.07513428, -0.020385742, 0.015136719, 0.011054993, -0.014656067, -0.018722534, 0.0024700165, 0.017990112, 0.019424438, -0.0024738312, 0.038604736, 0.05517578, 0.022537231, 0.06347656, 0.021255493, 0.003944397, 0.06561279, -0.06567383, -0.035308838, -0.026550293, 0.0030441284, 0.014038086, 0.0023288727, 0.043273926, -0.031143188, -0.055389404, 0.011016846, 0.052703857, 0.09454346, 0.01424408, -0.032928467, 0.01361084, -0.03414917, 5.0723553e-05, -0.06451416, 0.04522705, 0.051239014, -0.04611206, -0.0021781921, -0.0034103394, 0.012687683, -0.081970215, -0.014152527, -0.037261963, 0.0262146, 0.024978638, -0.021606445, 0.025650024, 0.014289856, 0.0074043274, 0.0368042, 0.09454346, -0.012237549, -0.009941101, 0.017028809, 0.099853516, -0.01739502, 0.02507019, -0.0048980713, 0.056884766, 0.0016555786, 0.028076172, -0.12249756, 0.016204834, -0.06414795, -0.0181427, 0.026321411, 0.066223145, 0.006225586, 0.0066947937, -0.029830933, 0.029571533, 0.029708862, 0.008483887, -0.037261963, -0.059295654, 0.0021457672, -0.027389526, -0.06298828, 0.05130005, -0.09893799, 0.03213501, -0.056884766, -0.030075073, -0.03756714, 0.05596924, 0.12121582, 0.024414062, -0.0073509216, 0.011047363, -0.046875, 0.017562866, 0.010292053, 0.10675049, 0.014556885, -0.000934124, -0.057891846, -0.025146484, -0.0028591156, -0.05078125, -0.045532227, -0.01991272, -0.04260254, -0.00043940544, -0.011184692, 0.0058059692, -0.050750732, 0.040802002, 0.056610107, 0.02645874, 0.042541504, 0.05999756, -0.02267456, -0.09967041, -0.03591919, 0.15429688, -0.026611328, 0.036834717, 0.092285156, -0.038116455, -0.028045654, -0.06933594, 0.033721924, -0.15136719, -0.027877808, -0.062683105, -0.029327393, 0.115478516, 0.061340332, 0.07385254, 0.036315918, -0.019119263, -0.07165527, 0.062408447, -0.0034275055, 0.03353882, -0.009681702, 0.021606445, -0.10345459, 0.034942627, -0.0690918, -0.035491943, -0.08862305, -0.04058838, 0.0076408386, 0.058563232, -0.061401367, 0.028259277, -0.011947632, -0.006855011, 0.017959595, -0.046936035, -0.04547119, 0.06921387, 0.0036087036, 0.062805176, 0.040100098, -0.058807373, -0.07879639, -0.064819336, -0.02130127, 0.10290527, -0.021591187, 0.021514893, 0.032958984, -0.078552246, 0.012794495, -0.048065186, 0.07080078, 0.075805664, -0.041290283, -0.022018433, 0.070251465, 0.009269714, -0.021881104, 0.03173828, -0.0013532639, -0.06384277, -0.03817749, 0.036743164, -0.018920898, -0.045318604, -0.05206299, -0.04208374, 0.082336426, 0.036315918, -0.06945801, 0.082092285, -0.11102295, -0.018951416, 0.03265381, 0.03050232, -0.05303955, -0.035125732, 0.0881958, 0.06173706, 0.05053711, -0.082336426, -0.036468506, -0.052886963, 0.01864624, 0.009147644, 0.07745361, -0.022735596, 0.056152344, 0.027633667, -0.0692749, 0.028045654, 0.019515991, -0.03161621, 0.035736084, -0.009643555, 0.008079529, -0.021240234, -0.008270264, 0.017501831, -0.0146865845, 0.01939392, 0.016464233, -0.018493652, 0.021408081, -0.08105469, -0.052215576, 0.019332886, 0.020843506, 0.11828613, -0.01424408, 0.02848816, -0.025543213, 0.017822266, 0.014656067, 0.06311035, 0.015182495, -0.05206299, 0.029937744, 0.10620117, 0.030960083, 0.0892334, 0.009727478, -0.12145996, -0.014663696, -0.021911621, -0.0033817291, 0.01638794, -0.07122803, -0.011695862, -0.0034828186, -0.026687622, 0.010856628, 0.00076150894, 0.058288574, 0.024475098, 0.026519775, 0.02746582, -0.11981201, 0.06323242, -0.08880615, -0.017730713, 0.030471802, -0.02407837, -0.01979065, 0.027862549, -0.041290283, -0.09667969, -0.0033569336, 0.0032424927, -0.06008911, 0.023864746, -0.0025978088, 0.051452637, 0.0059776306, 0.009613037, 0.025146484, 0.07659912, -0.04208374, 0.06112671, 0.1328125, -0.055236816, 0.16772461, -0.07867432, -0.0003066063, 0.0418396, 0.014915466, -0.026550293, -0.03765869, 0.004245758, -0.039154053, 0.0008511543, -0.0021133423, -0.06262207, -0.04046631, 0.057617188, -0.013160706, 0.014122009, -0.0184021, 0.08605957, -0.055114746, 0.046783447, -0.0017061234, -0.00028896332, -0.14404297, -0.06854248, -0.011222839, 0.087768555, -0.0128479, -0.030578613, 0.012321472, 0.03982544, 0.01184845, 0.07800293, -0.04119873, 0.005748749, 0.033477783, 0.025039673, 0.061401367, 0.026779175, 0.027862549, 0.02520752, 0.024230957, -0.023452759, -0.019577026]\n"
     ]
    }
   ],
   "source": [
    "query_result = embeddings_model.embed_query(sentence1)\n",
    "print(query_result)\n"
   ]
  },
  {
   "cell_type": "code",
   "execution_count": 66,
   "metadata": {},
   "outputs": [
    {
     "name": "stdout",
     "output_type": "stream",
     "text": [
      "Name: hnswlib\n",
      "Version: 0.8.0\n",
      "Summary: hnswlib\n",
      "Home-page: https://github.com/yurymalkov/hnsw\n",
      "Author: Yury Malkov and others\n",
      "Author-email: \n",
      "License: \n",
      "Location: /home/elaheh/miniconda3/envs/myenv/lib/python3.12/site-packages\n",
      "Requires: numpy\n",
      "Required-by: \n",
      "Note: you may need to restart the kernel to use updated packages.\n"
     ]
    }
   ],
   "source": [
    "pip show hnswlib\n"
   ]
  },
  {
   "cell_type": "code",
   "execution_count": 67,
   "metadata": {},
   "outputs": [],
   "source": [
    "#pip install chromadb==0.4.3\n"
   ]
  },
  {
   "cell_type": "code",
   "execution_count": 68,
   "metadata": {},
   "outputs": [],
   "source": [
    "#pip show chromadb\n"
   ]
  },
  {
   "cell_type": "code",
   "execution_count": 69,
   "metadata": {},
   "outputs": [],
   "source": [
    "vectordb = Chroma.from_documents(\n",
    "    documents=docs,\n",
    "    embedding=embeddings_model,\n",
    "    persist_directory=persist_directory\n",
    ")"
   ]
  },
  {
   "cell_type": "code",
   "execution_count": 70,
   "metadata": {},
   "outputs": [
    {
     "name": "stdout",
     "output_type": "stream",
     "text": [
      "128\n"
     ]
    }
   ],
   "source": [
    "print(vectordb._collection.count())"
   ]
  },
  {
   "cell_type": "code",
   "execution_count": 71,
   "metadata": {},
   "outputs": [],
   "source": [
    "question = \"what is NER?\""
   ]
  },
  {
   "cell_type": "markdown",
   "metadata": {},
   "source": [
    "### Retrieval"
   ]
  },
  {
   "cell_type": "code",
   "execution_count": 72,
   "metadata": {},
   "outputs": [],
   "source": [
    "retreived_docs = vectordb.similarity_search(question,k=5)"
   ]
  },
  {
   "cell_type": "code",
   "execution_count": null,
   "metadata": {},
   "outputs": [],
   "source": [
    "retreived_docs "
   ]
  },
  {
   "cell_type": "code",
   "execution_count": 74,
   "metadata": {},
   "outputs": [
    {
     "name": "stdout",
     "output_type": "stream",
     "text": [
      "{'page': 1, 'source': 'PromptNER : Prompting For Named Entity Recognition.pdf'}\n",
      "{'page': 1, 'source': 'PromptNER : Prompting For Named Entity Recognition.pdf'}\n",
      "{'page': 7, 'source': 'PromptNER : Prompting For Named Entity Recognition.pdf'}\n",
      "{'page': 7, 'source': 'PromptNER : Prompting For Named Entity Recognition.pdf'}\n",
      "{'page': 1, 'source': 'PromptNER : Prompting For Named Entity Recognition.pdf'}\n"
     ]
    }
   ],
   "source": [
    "for doc in retreived_docs:\n",
    "    print(doc.metadata)"
   ]
  },
  {
   "cell_type": "code",
   "execution_count": 75,
   "metadata": {},
   "outputs": [],
   "source": [
    "retreived_docs_MMR = vectordb.max_marginal_relevance_search(question,k=2, fetch_k=3)"
   ]
  },
  {
   "cell_type": "code",
   "execution_count": null,
   "metadata": {},
   "outputs": [],
   "source": [
    "retreived_docs_MMR"
   ]
  },
  {
   "cell_type": "code",
   "execution_count": 77,
   "metadata": {},
   "outputs": [
    {
     "name": "stdout",
     "output_type": "stream",
     "text": [
      "{'page': 1, 'source': 'PromptNER : Prompting For Named Entity Recognition.pdf'}\n",
      "{'page': 1, 'source': 'PromptNER : Prompting For Named Entity Recognition.pdf'}\n",
      "{'page': 7, 'source': 'PromptNER : Prompting For Named Entity Recognition.pdf'}\n"
     ]
    }
   ],
   "source": [
    "# Working with metadata\n",
    "\n",
    "retreived_docs3 = vectordb.similarity_search(\n",
    "    question,\n",
    "    k=3,\n",
    "    filter={\"source\": \"PromptNER : Prompting For Named Entity Recognition.pdf\"}\n",
    ")\n",
    "for d in retreived_docs3:\n",
    "    print(d.metadata)"
   ]
  },
  {
   "cell_type": "code",
   "execution_count": 78,
   "metadata": {},
   "outputs": [],
   "source": [
    "metadata_field_info = [\n",
    "    AttributeInfo(\n",
    "        name=\"source\",\n",
    "        description=\"The lecture the chunk is from, should be from 'PromptNER : Prompting For Named Entity Recognition.pdf'\",\n",
    "        type=\"string\",\n",
    "    ),\n",
    "    AttributeInfo(\n",
    "        name=\"page\",\n",
    "        description=\"The page from the paper\",\n",
    "        type=\"integer\",\n",
    "    ),\n",
    "]"
   ]
  },
  {
   "cell_type": "code",
   "execution_count": 79,
   "metadata": {},
   "outputs": [],
   "source": [
    "document_content_description = \"NER\"\n",
    "llm = ChatCohere(cohere_api_key= API_KEY)\n",
    "retriever = SelfQueryRetriever.from_llm(\n",
    "    llm,\n",
    "    vectordb,\n",
    "    document_content_description,\n",
    "    metadata_field_info,\n",
    "    verbose=True\n",
    ")"
   ]
  },
  {
   "cell_type": "code",
   "execution_count": 80,
   "metadata": {},
   "outputs": [
    {
     "name": "stdout",
     "output_type": "stream",
     "text": [
      "{'page': 1, 'source': 'PromptNER : Prompting For Named Entity Recognition.pdf'}\n",
      "{'page': 1, 'source': 'PromptNER : Prompting For Named Entity Recognition.pdf'}\n",
      "{'page': 7, 'source': 'PromptNER : Prompting For Named Entity Recognition.pdf'}\n",
      "{'page': 7, 'source': 'PromptNER : Prompting For Named Entity Recognition.pdf'}\n"
     ]
    }
   ],
   "source": [
    "retreived_docs4 = retriever.get_relevant_documents(question)\n",
    "for d in retreived_docs4:\n",
    "    print(d.metadata)"
   ]
  },
  {
   "cell_type": "code",
   "execution_count": 81,
   "metadata": {},
   "outputs": [],
   "source": [
    "all_page_text=[p.page_content for p in pages]\n",
    "joined_page_text=\" \".join(all_page_text)\n",
    "\n",
    "# Split\n",
    "text_splitter = RecursiveCharacterTextSplitter(chunk_size = 1500,chunk_overlap = 150)\n",
    "splits = text_splitter.split_text(joined_page_text)"
   ]
  },
  {
   "cell_type": "code",
   "execution_count": 82,
   "metadata": {},
   "outputs": [],
   "source": [
    "svm_retriever = SVMRetriever.from_texts(splits,embeddings_model)\n",
    "tfidf_retriever = TFIDFRetriever.from_texts(splits)"
   ]
  },
  {
   "cell_type": "code",
   "execution_count": null,
   "metadata": {},
   "outputs": [],
   "source": [
    "docs_svm=svm_retriever.get_relevant_documents(question)\n",
    "docs_svm[0]\n",
    "docs_tfidf=tfidf_retriever.get_relevant_documents(question)\n",
    "docs_tfidf[0]"
   ]
  },
  {
   "cell_type": "markdown",
   "metadata": {},
   "source": [
    "### Question Answering"
   ]
  },
  {
   "cell_type": "code",
   "execution_count": null,
   "metadata": {},
   "outputs": [],
   "source": [
    "qa_chain = RetrievalQA.from_chain_type(\n",
    "    llm,\n",
    "    retriever=vectordb.as_retriever()\n",
    ")\n",
    "result = qa_chain({\"query\": question})\n",
    "result[\"result\"]"
   ]
  },
  {
   "cell_type": "markdown",
   "metadata": {},
   "source": [
    "### Prompting"
   ]
  },
  {
   "cell_type": "code",
   "execution_count": 85,
   "metadata": {},
   "outputs": [],
   "source": [
    "# Build prompt\n",
    "template = \"\"\"Use the following pieces of context to answer the question at the end. If you don't know the answer, just say that you don't know, don't try to make up an answer. Use three sentences maximum. Keep the answer as concise as possible. Always say \"thanks for asking!\" at the end of the answer. \n",
    "{context}\n",
    "Question: {question}\n",
    "Helpful Answer:\"\"\"\n",
    "QA_CHAIN_PROMPT = PromptTemplate.from_template(template)"
   ]
  },
  {
   "cell_type": "code",
   "execution_count": 86,
   "metadata": {},
   "outputs": [],
   "source": [
    "question2= \"what is in-context learning\""
   ]
  },
  {
   "cell_type": "code",
   "execution_count": 87,
   "metadata": {},
   "outputs": [],
   "source": [
    "# Run chain\n",
    "qa_chain = RetrievalQA.from_chain_type(\n",
    "    llm,\n",
    "    retriever=vectordb.as_retriever(),\n",
    "    return_source_documents=True,\n",
    "    chain_type_kwargs={\"prompt\": QA_CHAIN_PROMPT}\n",
    ")"
   ]
  },
  {
   "cell_type": "code",
   "execution_count": 88,
   "metadata": {},
   "outputs": [],
   "source": [
    "result = qa_chain({\"query\": question})"
   ]
  },
  {
   "cell_type": "code",
   "execution_count": 89,
   "metadata": {},
   "outputs": [
    {
     "data": {
      "text/plain": [
       "'NER stands for Named Entity Recognition. Thanks for asking!'"
      ]
     },
     "execution_count": 89,
     "metadata": {},
     "output_type": "execute_result"
    }
   ],
   "source": [
    "result[\"result\"]"
   ]
  },
  {
   "cell_type": "code",
   "execution_count": 90,
   "metadata": {},
   "outputs": [
    {
     "data": {
      "text/plain": [
       "'In-context learning is a strategy used with LLMs to improve their performance on few-shot learning tasks by providing examples in the prompt or context window of the input. \\n\\nThanks for asking!'"
      ]
     },
     "execution_count": 90,
     "metadata": {},
     "output_type": "execute_result"
    }
   ],
   "source": [
    "result2 = qa_chain({\"query\": question2})\n",
    "result2[\"result\"]"
   ]
  },
  {
   "cell_type": "code",
   "execution_count": null,
   "metadata": {},
   "outputs": [],
   "source": [
    "result[\"source_documents\"][0]"
   ]
  },
  {
   "cell_type": "markdown",
   "metadata": {},
   "source": [
    "### RetrievalQA chain types"
   ]
  },
  {
   "cell_type": "code",
   "execution_count": 92,
   "metadata": {},
   "outputs": [
    {
     "data": {
      "text/plain": [
       "'NER stands for Named Entity Recognition.'"
      ]
     },
     "execution_count": 92,
     "metadata": {},
     "output_type": "execute_result"
    }
   ],
   "source": [
    "qa_chain_mr = RetrievalQA.from_chain_type(\n",
    "    llm,\n",
    "    retriever=vectordb.as_retriever(),\n",
    "    chain_type=\"map_reduce\"\n",
    ")\n",
    "result = qa_chain_mr({\"query\": question})\n",
    "result[\"result\"]"
   ]
  },
  {
   "cell_type": "markdown",
   "metadata": {},
   "source": [
    "### Chat"
   ]
  },
  {
   "cell_type": "code",
   "execution_count": 93,
   "metadata": {},
   "outputs": [],
   "source": [
    "\n",
    "memory = ConversationBufferMemory(\n",
    "    memory_key=\"chat_history\",\n",
    "    return_messages=True\n",
    ")"
   ]
  },
  {
   "cell_type": "code",
   "execution_count": 94,
   "metadata": {},
   "outputs": [],
   "source": [
    "retriever=vectordb.as_retriever()\n",
    "qa = ConversationalRetrievalChain.from_llm(\n",
    "    llm,\n",
    "    retriever=retriever,\n",
    "    memory=memory\n",
    ")"
   ]
  },
  {
   "cell_type": "code",
   "execution_count": 95,
   "metadata": {},
   "outputs": [
    {
     "data": {
      "text/plain": [
       "'NER stands for Named Entity Recognition. It is a task in natural language processing that involves identifying and classifying named entities in text into predefined categories such as person names, organizations, locations, dates, and more.'"
      ]
     },
     "execution_count": 95,
     "metadata": {},
     "output_type": "execute_result"
    }
   ],
   "source": [
    "result = qa({\"question\": question})\n",
    "result['answer']"
   ]
  }
 ],
 "metadata": {
  "kernelspec": {
   "display_name": "Python 3",
   "language": "python",
   "name": "python3"
  },
  "language_info": {
   "codemirror_mode": {
    "name": "ipython",
    "version": 3
   },
   "file_extension": ".py",
   "mimetype": "text/x-python",
   "name": "python",
   "nbconvert_exporter": "python",
   "pygments_lexer": "ipython3",
   "version": "3.12.3"
  }
 },
 "nbformat": 4,
 "nbformat_minor": 2
}
